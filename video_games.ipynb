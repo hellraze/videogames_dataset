{
 "cells": [
  {
   "cell_type": "code",
   "execution_count": 18,
   "id": "initial_id",
   "metadata": {
    "collapsed": true,
    "ExecuteTime": {
     "end_time": "2024-01-01T13:21:57.181140800Z",
     "start_time": "2024-01-01T13:21:57.142134400Z"
    }
   },
   "outputs": [],
   "source": [
    "#pandas import\n",
    "import pandas as pd"
   ]
  },
  {
   "cell_type": "code",
   "execution_count": 19,
   "outputs": [],
   "source": [
    "df = pd.read_csv('video_games.csv')"
   ],
   "metadata": {
    "collapsed": false,
    "ExecuteTime": {
     "end_time": "2024-01-01T13:21:57.197306800Z",
     "start_time": "2024-01-01T13:21:57.185138200Z"
    }
   },
   "id": "5c6526828f176b22"
  },
  {
   "cell_type": "code",
   "execution_count": 20,
   "outputs": [
    {
     "data": {
      "text/plain": "      index  Rank                        Game Title Platform    Year  \\\n0         0     1                        Wii Sports      Wii  2006.0   \n1         1     2                 Super Mario Bros.      NES  1985.0   \n2         2     3                    Mario Kart Wii      Wii  2008.0   \n3         3     4                 Wii Sports Resort      Wii  2009.0   \n4         4     5                            Tetris       GB  1989.0   \n...     ...   ...                               ...      ...     ...   \n1902   1902  1903  Lizzie McGuire 2: Lizzie Diaries      GBA  2004.0   \n1903   1903  1904              Xenoblade Chronicles      Wii  2010.0   \n1904   1904  1905                     SingStar Abba      PS3  2008.0   \n1905   1905  1906    FIFA Soccer World Championship      PS2  2000.0   \n1906   1906  1907        WWE SmackDown vs. Raw 2011     X360  2010.0   \n\n             Genre                    Publisher  North America  Europe  Japan  \\\n0           Sports                     Nintendo          40.43   28.39   3.77   \n1         Platform                     Nintendo          29.08    3.58   6.81   \n2           Racing                     Nintendo          14.50   12.22   3.63   \n3           Sports                     Nintendo          14.82   10.51   3.18   \n4           Puzzle                     Nintendo          23.20    2.26   4.22   \n...            ...                          ...            ...     ...    ...   \n1902        Action   Disney Interactive Studios           0.60    0.22   0.00   \n1903  Role-Playing                     Nintendo           0.39    0.22   0.16   \n1904          Misc  Sony Computer Entertainment           0.25    0.44   0.00   \n1905        Sports              Electronic Arts           0.27    0.21   0.28   \n1906      Fighting                          THQ           0.42    0.32   0.00   \n\n      Rest of World  Global  Review  \n0              8.54   81.12   76.28  \n1              0.77   40.24   91.00  \n2              3.21   33.55   82.07  \n3              3.01   31.52   82.65  \n4              0.58   30.26   88.00  \n...             ...     ...     ...  \n1902           0.01    0.83   55.00  \n1903           0.07    0.83   91.74  \n1904           0.14    0.83   73.00  \n1905           0.07    0.83   73.00  \n1906           0.09    0.83   82.00  \n\n[1907 rows x 13 columns]",
      "text/html": "<div>\n<style scoped>\n    .dataframe tbody tr th:only-of-type {\n        vertical-align: middle;\n    }\n\n    .dataframe tbody tr th {\n        vertical-align: top;\n    }\n\n    .dataframe thead th {\n        text-align: right;\n    }\n</style>\n<table border=\"1\" class=\"dataframe\">\n  <thead>\n    <tr style=\"text-align: right;\">\n      <th></th>\n      <th>index</th>\n      <th>Rank</th>\n      <th>Game Title</th>\n      <th>Platform</th>\n      <th>Year</th>\n      <th>Genre</th>\n      <th>Publisher</th>\n      <th>North America</th>\n      <th>Europe</th>\n      <th>Japan</th>\n      <th>Rest of World</th>\n      <th>Global</th>\n      <th>Review</th>\n    </tr>\n  </thead>\n  <tbody>\n    <tr>\n      <th>0</th>\n      <td>0</td>\n      <td>1</td>\n      <td>Wii Sports</td>\n      <td>Wii</td>\n      <td>2006.0</td>\n      <td>Sports</td>\n      <td>Nintendo</td>\n      <td>40.43</td>\n      <td>28.39</td>\n      <td>3.77</td>\n      <td>8.54</td>\n      <td>81.12</td>\n      <td>76.28</td>\n    </tr>\n    <tr>\n      <th>1</th>\n      <td>1</td>\n      <td>2</td>\n      <td>Super Mario Bros.</td>\n      <td>NES</td>\n      <td>1985.0</td>\n      <td>Platform</td>\n      <td>Nintendo</td>\n      <td>29.08</td>\n      <td>3.58</td>\n      <td>6.81</td>\n      <td>0.77</td>\n      <td>40.24</td>\n      <td>91.00</td>\n    </tr>\n    <tr>\n      <th>2</th>\n      <td>2</td>\n      <td>3</td>\n      <td>Mario Kart Wii</td>\n      <td>Wii</td>\n      <td>2008.0</td>\n      <td>Racing</td>\n      <td>Nintendo</td>\n      <td>14.50</td>\n      <td>12.22</td>\n      <td>3.63</td>\n      <td>3.21</td>\n      <td>33.55</td>\n      <td>82.07</td>\n    </tr>\n    <tr>\n      <th>3</th>\n      <td>3</td>\n      <td>4</td>\n      <td>Wii Sports Resort</td>\n      <td>Wii</td>\n      <td>2009.0</td>\n      <td>Sports</td>\n      <td>Nintendo</td>\n      <td>14.82</td>\n      <td>10.51</td>\n      <td>3.18</td>\n      <td>3.01</td>\n      <td>31.52</td>\n      <td>82.65</td>\n    </tr>\n    <tr>\n      <th>4</th>\n      <td>4</td>\n      <td>5</td>\n      <td>Tetris</td>\n      <td>GB</td>\n      <td>1989.0</td>\n      <td>Puzzle</td>\n      <td>Nintendo</td>\n      <td>23.20</td>\n      <td>2.26</td>\n      <td>4.22</td>\n      <td>0.58</td>\n      <td>30.26</td>\n      <td>88.00</td>\n    </tr>\n    <tr>\n      <th>...</th>\n      <td>...</td>\n      <td>...</td>\n      <td>...</td>\n      <td>...</td>\n      <td>...</td>\n      <td>...</td>\n      <td>...</td>\n      <td>...</td>\n      <td>...</td>\n      <td>...</td>\n      <td>...</td>\n      <td>...</td>\n      <td>...</td>\n    </tr>\n    <tr>\n      <th>1902</th>\n      <td>1902</td>\n      <td>1903</td>\n      <td>Lizzie McGuire 2: Lizzie Diaries</td>\n      <td>GBA</td>\n      <td>2004.0</td>\n      <td>Action</td>\n      <td>Disney Interactive Studios</td>\n      <td>0.60</td>\n      <td>0.22</td>\n      <td>0.00</td>\n      <td>0.01</td>\n      <td>0.83</td>\n      <td>55.00</td>\n    </tr>\n    <tr>\n      <th>1903</th>\n      <td>1903</td>\n      <td>1904</td>\n      <td>Xenoblade Chronicles</td>\n      <td>Wii</td>\n      <td>2010.0</td>\n      <td>Role-Playing</td>\n      <td>Nintendo</td>\n      <td>0.39</td>\n      <td>0.22</td>\n      <td>0.16</td>\n      <td>0.07</td>\n      <td>0.83</td>\n      <td>91.74</td>\n    </tr>\n    <tr>\n      <th>1904</th>\n      <td>1904</td>\n      <td>1905</td>\n      <td>SingStar Abba</td>\n      <td>PS3</td>\n      <td>2008.0</td>\n      <td>Misc</td>\n      <td>Sony Computer Entertainment</td>\n      <td>0.25</td>\n      <td>0.44</td>\n      <td>0.00</td>\n      <td>0.14</td>\n      <td>0.83</td>\n      <td>73.00</td>\n    </tr>\n    <tr>\n      <th>1905</th>\n      <td>1905</td>\n      <td>1906</td>\n      <td>FIFA Soccer World Championship</td>\n      <td>PS2</td>\n      <td>2000.0</td>\n      <td>Sports</td>\n      <td>Electronic Arts</td>\n      <td>0.27</td>\n      <td>0.21</td>\n      <td>0.28</td>\n      <td>0.07</td>\n      <td>0.83</td>\n      <td>73.00</td>\n    </tr>\n    <tr>\n      <th>1906</th>\n      <td>1906</td>\n      <td>1907</td>\n      <td>WWE SmackDown vs. Raw 2011</td>\n      <td>X360</td>\n      <td>2010.0</td>\n      <td>Fighting</td>\n      <td>THQ</td>\n      <td>0.42</td>\n      <td>0.32</td>\n      <td>0.00</td>\n      <td>0.09</td>\n      <td>0.83</td>\n      <td>82.00</td>\n    </tr>\n  </tbody>\n</table>\n<p>1907 rows × 13 columns</p>\n</div>"
     },
     "execution_count": 20,
     "metadata": {},
     "output_type": "execute_result"
    }
   ],
   "source": [
    "df"
   ],
   "metadata": {
    "collapsed": false,
    "ExecuteTime": {
     "end_time": "2024-01-01T13:21:57.240056500Z",
     "start_time": "2024-01-01T13:21:57.209307300Z"
    }
   },
   "id": "d2f4d8c4c440baff"
  },
  {
   "cell_type": "markdown",
   "source": [
    "1. Изучить пропущенные значения в датасете. Принять решение о том, что с ними делать: удалить, заполнить или оставить как есть"
   ],
   "metadata": {
    "collapsed": false
   },
   "id": "4402e81e97cfa768"
  },
  {
   "cell_type": "code",
   "execution_count": 21,
   "outputs": [
    {
     "data": {
      "text/plain": "index             0\nRank              0\nGame Title        0\nPlatform          0\nYear             29\nGenre             0\nPublisher         2\nNorth America     0\nEurope            0\nJapan             0\nRest of World     0\nGlobal            0\nReview            0\ndtype: int64"
     },
     "execution_count": 21,
     "metadata": {},
     "output_type": "execute_result"
    }
   ],
   "source": [
    "df.isna().sum()"
   ],
   "metadata": {
    "collapsed": false,
    "ExecuteTime": {
     "end_time": "2024-01-01T13:21:57.241056700Z",
     "start_time": "2024-01-01T13:21:57.214543500Z"
    }
   },
   "id": "7ac36794388dbe1f"
  },
  {
   "cell_type": "markdown",
   "source": [
    "Вывод: На более чем 1900 записей всего 31 пропуск, причем 29 из которых, это дата выпуска игры. Думаю, можно оставить как есть (~2%)."
   ],
   "metadata": {
    "collapsed": false
   },
   "id": "8fe0269a4e5e701c"
  },
  {
   "cell_type": "markdown",
   "source": [
    "2. Изучить переменные: посмотреть на уникальные значения, их количество для категориальных переменных, построить гистограммы для числовых"
   ],
   "metadata": {
    "collapsed": false
   },
   "id": "370dbbc06543cee2"
  },
  {
   "cell_type": "markdown",
   "source": [
    "Уникальный значения для категориальной переменной \"Publisher\":"
   ],
   "metadata": {
    "collapsed": false
   },
   "id": "2eb6aea24b7e3f5f"
  },
  {
   "cell_type": "code",
   "execution_count": 22,
   "outputs": [
    {
     "data": {
      "text/plain": "array(['Nintendo', 'Take-Two Interactive', 'Microsoft Game Studios',\n       'Sony Computer Entertainment', 'Activision', 'Electronic Arts',\n       'Ubisoft', 'Red Orb', 'Square', 'Bethesda Softworks', 'Capcom',\n       '505 Games', 'GT Interactive', 'Konami Digital Entertainment',\n       'Sega', 'Square Enix', 'Virgin Interactive',\n       'Universal Interactive', 'Eidos Interactive', 'RedOctane',\n       'LucasArts', 'Atari', 'Vivendi Games', 'Enix Corporation',\n       'Namco Bandai Games', 'Warner Bros. Interactive Entertainment',\n       'Hasbro Interactive', 'Unknown', 'THQ',\n       'Disney Interactive Studios', 'Acclaim Entertainment', 'Level 5',\n       nan, 'MTV Games', 'Codemasters', 'id Software',\n       'Havas Interactive', 'Majesco Entertainment', 'Midway Games',\n       'Hudson Soft', 'JVC', 'Valve Software', '989 Studios', 'Maxis',\n       'Square EA', 'Tecmo Koei', 'Gotham Games', 'Deep Silver',\n       'Infogrames', 'Arena Entertainment', 'Mindscape', 'Banpresto',\n       'NCSoft', 'Crave Entertainment', 'D3Publisher',\n       'Red Storm Entertainment', 'Video System', 'Global Star',\n       'Westwood Studios', 'Fox Interactive', 'Valve', 'TDK Mediactive',\n       'ASC Games', 'Rising Star Games', 'Accolade',\n       'Sony Online Entertainment', '3DO', 'Natsume',\n       'Pacific Century Cyber Works', 'GameBank', 'RTL',\n       'Black Label Games', 'SouthPeak Games', 'Ocean', 'Psygnosis',\n       'Empire Interactive', 'Success', 'Russel', 'Agetec', 'Microprose',\n       'Play It', 'City Interactive', 'Sammy Corporation',\n       'Tomy Corporation', 'GSP', 'Koch Media', 'Titus',\n       'ASCII Entertainment', 'CTO SpA', 'TalonSoft', 'Crystal Dynamics',\n       'SCi', 'Rage Software', 'Mastertronic', 'Pinnacle'], dtype=object)"
     },
     "execution_count": 22,
     "metadata": {},
     "output_type": "execute_result"
    }
   ],
   "source": [
    "df.Publisher.unique()"
   ],
   "metadata": {
    "collapsed": false,
    "ExecuteTime": {
     "end_time": "2024-01-01T13:21:57.242057500Z",
     "start_time": "2024-01-01T13:21:57.220060800Z"
    }
   },
   "id": "65260c8479f08efd"
  },
  {
   "cell_type": "markdown",
   "source": [
    "Количество уникальных значений для категориальной переменной \"Publisher\":"
   ],
   "metadata": {
    "collapsed": false
   },
   "id": "a55f838ee3c7c001"
  },
  {
   "cell_type": "code",
   "execution_count": 23,
   "outputs": [
    {
     "data": {
      "text/plain": "95"
     },
     "execution_count": 23,
     "metadata": {},
     "output_type": "execute_result"
    }
   ],
   "source": [
    "df.Publisher.unique().size"
   ],
   "metadata": {
    "collapsed": false,
    "ExecuteTime": {
     "end_time": "2024-01-01T13:21:57.242057500Z",
     "start_time": "2024-01-01T13:21:57.225057Z"
    }
   },
   "id": "d9ef730e94f1bbbc"
  },
  {
   "cell_type": "markdown",
   "source": [],
   "metadata": {
    "collapsed": false
   },
   "id": "389817f8ad0a53a3"
  },
  {
   "cell_type": "code",
   "execution_count": null,
   "outputs": [],
   "source": [
    "Количество всех уникальных значений в датафрейме:"
   ],
   "metadata": {
    "collapsed": false
   },
   "id": "ca29b6071a0fcbe0"
  },
  {
   "cell_type": "code",
   "execution_count": 24,
   "outputs": [
    {
     "data": {
      "text/plain": "index            1907\nRank             1907\nGame Title       1519\nPlatform           22\nYear               30\nGenre              12\nPublisher          94\nNorth America     375\nEurope            273\nJapan             218\nRest of World     129\nGlobal            479\nReview            734\ndtype: int64"
     },
     "execution_count": 24,
     "metadata": {},
     "output_type": "execute_result"
    }
   ],
   "source": [
    "df.nunique()"
   ],
   "metadata": {
    "collapsed": false,
    "ExecuteTime": {
     "end_time": "2024-01-01T13:21:57.299299600Z",
     "start_time": "2024-01-01T13:21:57.244056700Z"
    }
   },
   "id": "e3795fab725af103"
  },
  {
   "cell_type": "markdown",
   "source": [
    "Гистограмма по годам выхода игр:"
   ],
   "metadata": {
    "collapsed": false
   },
   "id": "108f03fbb5aae77e"
  },
  {
   "cell_type": "code",
   "execution_count": 26,
   "outputs": [
    {
     "data": {
      "text/plain": "array([[<Axes: title={'center': 'Year'}>]], dtype=object)"
     },
     "execution_count": 26,
     "metadata": {},
     "output_type": "execute_result"
    },
    {
     "data": {
      "text/plain": "<Figure size 640x480 with 1 Axes>",
      "image/png": "[encoded data removed]"
     },
     "metadata": {},
     "output_type": "display_data"
    }
   ],
   "source": [
    "df.hist(column='Year')"
   ],
   "metadata": {
    "collapsed": false,
    "ExecuteTime": {
     "end_time": "2024-01-01T13:23:38.143350200Z",
     "start_time": "2024-01-01T13:23:38.043382800Z"
    }
   },
   "id": "75427146b6b32f06"
  },
  {
   "cell_type": "markdown",
   "source": [
    "Гистограмма по ревью:"
   ],
   "metadata": {
    "collapsed": false
   },
   "id": "61a2aff88884c2fa"
  },
  {
   "cell_type": "code",
   "execution_count": 27,
   "outputs": [
    {
     "data": {
      "text/plain": "array([[<Axes: title={'center': 'Review'}>]], dtype=object)"
     },
     "execution_count": 27,
     "metadata": {},
     "output_type": "execute_result"
    },
    {
     "data": {
      "text/plain": "<Figure size 640x480 with 1 Axes>",
      "image/png": "[encoded data removed]"
     },
     "metadata": {},
     "output_type": "display_data"
    }
   ],
   "source": [
    "df.hist(column='Review')"
   ],
   "metadata": {
    "collapsed": false,
    "ExecuteTime": {
     "end_time": "2024-01-01T13:25:15.085258500Z",
     "start_time": "2024-01-01T13:25:14.974411400Z"
    }
   },
   "id": "b9bf6bd6ebbdc49"
  },
  {
   "cell_type": "markdown",
   "source": [
    "3. Сделать как минимум 5 различных селектов из датасета, сделать по ним выводы (для выводов используйте markdown ячейки в ноутбуке)"
   ],
   "metadata": {
    "collapsed": false
   },
   "id": "5471bc07608adb74"
  },
  {
   "cell_type": "markdown",
   "source": [
    "Сделал выборку игр по платформе и издателю."
   ],
   "metadata": {
    "collapsed": false
   },
   "id": "2105a2788d111987"
  },
  {
   "cell_type": "code",
   "execution_count": 28,
   "outputs": [
    {
     "data": {
      "text/plain": "                            Game Title Platform                    Publisher\n0                           Wii Sports      Wii                     Nintendo\n1                    Super Mario Bros.      NES                     Nintendo\n2                       Mario Kart Wii      Wii                     Nintendo\n3                    Wii Sports Resort      Wii                     Nintendo\n4                               Tetris       GB                     Nintendo\n...                                ...      ...                          ...\n1902  Lizzie McGuire 2: Lizzie Diaries      GBA   Disney Interactive Studios\n1903              Xenoblade Chronicles      Wii                     Nintendo\n1904                     SingStar Abba      PS3  Sony Computer Entertainment\n1905    FIFA Soccer World Championship      PS2              Electronic Arts\n1906        WWE SmackDown vs. Raw 2011     X360                          THQ\n\n[1907 rows x 3 columns]",
      "text/html": "<div>\n<style scoped>\n    .dataframe tbody tr th:only-of-type {\n        vertical-align: middle;\n    }\n\n    .dataframe tbody tr th {\n        vertical-align: top;\n    }\n\n    .dataframe thead th {\n        text-align: right;\n    }\n</style>\n<table border=\"1\" class=\"dataframe\">\n  <thead>\n    <tr style=\"text-align: right;\">\n      <th></th>\n      <th>Game Title</th>\n      <th>Platform</th>\n      <th>Publisher</th>\n    </tr>\n  </thead>\n  <tbody>\n    <tr>\n      <th>0</th>\n      <td>Wii Sports</td>\n      <td>Wii</td>\n      <td>Nintendo</td>\n    </tr>\n    <tr>\n      <th>1</th>\n      <td>Super Mario Bros.</td>\n      <td>NES</td>\n      <td>Nintendo</td>\n    </tr>\n    <tr>\n      <th>2</th>\n      <td>Mario Kart Wii</td>\n      <td>Wii</td>\n      <td>Nintendo</td>\n    </tr>\n    <tr>\n      <th>3</th>\n      <td>Wii Sports Resort</td>\n      <td>Wii</td>\n      <td>Nintendo</td>\n    </tr>\n    <tr>\n      <th>4</th>\n      <td>Tetris</td>\n      <td>GB</td>\n      <td>Nintendo</td>\n    </tr>\n    <tr>\n      <th>...</th>\n      <td>...</td>\n      <td>...</td>\n      <td>...</td>\n    </tr>\n    <tr>\n      <th>1902</th>\n      <td>Lizzie McGuire 2: Lizzie Diaries</td>\n      <td>GBA</td>\n      <td>Disney Interactive Studios</td>\n    </tr>\n    <tr>\n      <th>1903</th>\n      <td>Xenoblade Chronicles</td>\n      <td>Wii</td>\n      <td>Nintendo</td>\n    </tr>\n    <tr>\n      <th>1904</th>\n      <td>SingStar Abba</td>\n      <td>PS3</td>\n      <td>Sony Computer Entertainment</td>\n    </tr>\n    <tr>\n      <th>1905</th>\n      <td>FIFA Soccer World Championship</td>\n      <td>PS2</td>\n      <td>Electronic Arts</td>\n    </tr>\n    <tr>\n      <th>1906</th>\n      <td>WWE SmackDown vs. Raw 2011</td>\n      <td>X360</td>\n      <td>THQ</td>\n    </tr>\n  </tbody>\n</table>\n<p>1907 rows × 3 columns</p>\n</div>"
     },
     "execution_count": 28,
     "metadata": {},
     "output_type": "execute_result"
    }
   ],
   "source": [
    "df[[\"Game Title\", \"Platform\", \"Publisher\"]]"
   ],
   "metadata": {
    "collapsed": false,
    "ExecuteTime": {
     "end_time": "2024-01-01T13:59:00.124709400Z",
     "start_time": "2024-01-01T13:59:00.120242100Z"
    }
   },
   "id": "bdf89b3324b85c0c"
  },
  {
   "cell_type": "markdown",
   "source": [
    "Фильтрация игр по году выпуска (после 1990 года)"
   ],
   "metadata": {
    "collapsed": false
   },
   "id": "e382b561d8bd4048"
  },
  {
   "cell_type": "code",
   "execution_count": 29,
   "outputs": [
    {
     "data": {
      "text/plain": "      index  Rank                        Game Title Platform    Year  \\\n0         0     1                        Wii Sports      Wii  2006.0   \n2         2     3                    Mario Kart Wii      Wii  2008.0   \n3         3     4                 Wii Sports Resort      Wii  2009.0   \n5         5     6             New Super Mario Bros.       DS  2006.0   \n6         6     7                          Wii Play      Wii  2006.0   \n...     ...   ...                               ...      ...     ...   \n1902   1902  1903  Lizzie McGuire 2: Lizzie Diaries      GBA  2004.0   \n1903   1903  1904              Xenoblade Chronicles      Wii  2010.0   \n1904   1904  1905                     SingStar Abba      PS3  2008.0   \n1905   1905  1906    FIFA Soccer World Championship      PS2  2000.0   \n1906   1906  1907        WWE SmackDown vs. Raw 2011     X360  2010.0   \n\n             Genre                    Publisher  North America  Europe  Japan  \\\n0           Sports                     Nintendo          40.43   28.39   3.77   \n2           Racing                     Nintendo          14.50   12.22   3.63   \n3           Sports                     Nintendo          14.82   10.51   3.18   \n5         Platform                     Nintendo          10.85    8.87   6.48   \n6             Misc                     Nintendo          13.83    9.11   2.93   \n...            ...                          ...            ...     ...    ...   \n1902        Action   Disney Interactive Studios           0.60    0.22   0.00   \n1903  Role-Playing                     Nintendo           0.39    0.22   0.16   \n1904          Misc  Sony Computer Entertainment           0.25    0.44   0.00   \n1905        Sports              Electronic Arts           0.27    0.21   0.28   \n1906      Fighting                          THQ           0.42    0.32   0.00   \n\n      Rest of World  Global  Review  \n0              8.54   81.12   76.28  \n2              3.21   33.55   82.07  \n3              3.01   31.52   82.65  \n5              2.88   29.08   90.00  \n6              2.84   28.71   61.64  \n...             ...     ...     ...  \n1902           0.01    0.83   55.00  \n1903           0.07    0.83   91.74  \n1904           0.14    0.83   73.00  \n1905           0.07    0.83   73.00  \n1906           0.09    0.83   82.00  \n\n[1807 rows x 13 columns]",
      "text/html": "<div>\n<style scoped>\n    .dataframe tbody tr th:only-of-type {\n        vertical-align: middle;\n    }\n\n    .dataframe tbody tr th {\n        vertical-align: top;\n    }\n\n    .dataframe thead th {\n        text-align: right;\n    }\n</style>\n<table border=\"1\" class=\"dataframe\">\n  <thead>\n    <tr style=\"text-align: right;\">\n      <th></th>\n      <th>index</th>\n      <th>Rank</th>\n      <th>Game Title</th>\n      <th>Platform</th>\n      <th>Year</th>\n      <th>Genre</th>\n      <th>Publisher</th>\n      <th>North America</th>\n      <th>Europe</th>\n      <th>Japan</th>\n      <th>Rest of World</th>\n      <th>Global</th>\n      <th>Review</th>\n    </tr>\n  </thead>\n  <tbody>\n    <tr>\n      <th>0</th>\n      <td>0</td>\n      <td>1</td>\n      <td>Wii Sports</td>\n      <td>Wii</td>\n      <td>2006.0</td>\n      <td>Sports</td>\n      <td>Nintendo</td>\n      <td>40.43</td>\n      <td>28.39</td>\n      <td>3.77</td>\n      <td>8.54</td>\n      <td>81.12</td>\n      <td>76.28</td>\n    </tr>\n    <tr>\n      <th>2</th>\n      <td>2</td>\n      <td>3</td>\n      <td>Mario Kart Wii</td>\n      <td>Wii</td>\n      <td>2008.0</td>\n      <td>Racing</td>\n      <td>Nintendo</td>\n      <td>14.50</td>\n      <td>12.22</td>\n      <td>3.63</td>\n      <td>3.21</td>\n      <td>33.55</td>\n      <td>82.07</td>\n    </tr>\n    <tr>\n      <th>3</th>\n      <td>3</td>\n      <td>4</td>\n      <td>Wii Sports Resort</td>\n      <td>Wii</td>\n      <td>2009.0</td>\n      <td>Sports</td>\n      <td>Nintendo</td>\n      <td>14.82</td>\n      <td>10.51</td>\n      <td>3.18</td>\n      <td>3.01</td>\n      <td>31.52</td>\n      <td>82.65</td>\n    </tr>\n    <tr>\n      <th>5</th>\n      <td>5</td>\n      <td>6</td>\n      <td>New Super Mario Bros.</td>\n      <td>DS</td>\n      <td>2006.0</td>\n      <td>Platform</td>\n      <td>Nintendo</td>\n      <td>10.85</td>\n      <td>8.87</td>\n      <td>6.48</td>\n      <td>2.88</td>\n      <td>29.08</td>\n      <td>90.00</td>\n    </tr>\n    <tr>\n      <th>6</th>\n      <td>6</td>\n      <td>7</td>\n      <td>Wii Play</td>\n      <td>Wii</td>\n      <td>2006.0</td>\n      <td>Misc</td>\n      <td>Nintendo</td>\n      <td>13.83</td>\n      <td>9.11</td>\n      <td>2.93</td>\n      <td>2.84</td>\n      <td>28.71</td>\n      <td>61.64</td>\n    </tr>\n    <tr>\n      <th>...</th>\n      <td>...</td>\n      <td>...</td>\n      <td>...</td>\n      <td>...</td>\n      <td>...</td>\n      <td>...</td>\n      <td>...</td>\n      <td>...</td>\n      <td>...</td>\n      <td>...</td>\n      <td>...</td>\n      <td>...</td>\n      <td>...</td>\n    </tr>\n    <tr>\n      <th>1902</th>\n      <td>1902</td>\n      <td>1903</td>\n      <td>Lizzie McGuire 2: Lizzie Diaries</td>\n      <td>GBA</td>\n      <td>2004.0</td>\n      <td>Action</td>\n      <td>Disney Interactive Studios</td>\n      <td>0.60</td>\n      <td>0.22</td>\n      <td>0.00</td>\n      <td>0.01</td>\n      <td>0.83</td>\n      <td>55.00</td>\n    </tr>\n    <tr>\n      <th>1903</th>\n      <td>1903</td>\n      <td>1904</td>\n      <td>Xenoblade Chronicles</td>\n      <td>Wii</td>\n      <td>2010.0</td>\n      <td>Role-Playing</td>\n      <td>Nintendo</td>\n      <td>0.39</td>\n      <td>0.22</td>\n      <td>0.16</td>\n      <td>0.07</td>\n      <td>0.83</td>\n      <td>91.74</td>\n    </tr>\n    <tr>\n      <th>1904</th>\n      <td>1904</td>\n      <td>1905</td>\n      <td>SingStar Abba</td>\n      <td>PS3</td>\n      <td>2008.0</td>\n      <td>Misc</td>\n      <td>Sony Computer Entertainment</td>\n      <td>0.25</td>\n      <td>0.44</td>\n      <td>0.00</td>\n      <td>0.14</td>\n      <td>0.83</td>\n      <td>73.00</td>\n    </tr>\n    <tr>\n      <th>1905</th>\n      <td>1905</td>\n      <td>1906</td>\n      <td>FIFA Soccer World Championship</td>\n      <td>PS2</td>\n      <td>2000.0</td>\n      <td>Sports</td>\n      <td>Electronic Arts</td>\n      <td>0.27</td>\n      <td>0.21</td>\n      <td>0.28</td>\n      <td>0.07</td>\n      <td>0.83</td>\n      <td>73.00</td>\n    </tr>\n    <tr>\n      <th>1906</th>\n      <td>1906</td>\n      <td>1907</td>\n      <td>WWE SmackDown vs. Raw 2011</td>\n      <td>X360</td>\n      <td>2010.0</td>\n      <td>Fighting</td>\n      <td>THQ</td>\n      <td>0.42</td>\n      <td>0.32</td>\n      <td>0.00</td>\n      <td>0.09</td>\n      <td>0.83</td>\n      <td>82.00</td>\n    </tr>\n  </tbody>\n</table>\n<p>1807 rows × 13 columns</p>\n</div>"
     },
     "execution_count": 29,
     "metadata": {},
     "output_type": "execute_result"
    }
   ],
   "source": [
    "df[df[\"Year\"] > 1990]"
   ],
   "metadata": {
    "collapsed": false,
    "ExecuteTime": {
     "end_time": "2024-01-01T14:52:46.892895800Z",
     "start_time": "2024-01-01T14:52:46.879144400Z"
    }
   },
   "id": "71138b57df186918"
  },
  {
   "cell_type": "markdown",
   "source": [
    "Все игры издателя Sony Computer Entertainment"
   ],
   "metadata": {
    "collapsed": false
   },
   "id": "c14f146bf2dee20e"
  },
  {
   "cell_type": "code",
   "execution_count": 30,
   "outputs": [
    {
     "data": {
      "text/plain": "      index  Rank                                      Game Title Platform  \\\n24       24    25                          Gran Turismo 3: A-Spec      PS2   \n39       39    40                                  Gran Turismo 4      PS2   \n42       42    43                                    Gran Turismo       PS   \n52       52    53                               Final Fantasy VII       PS   \n56       56    57                                  Gran Turismo 2       PS   \n...     ...   ...                                             ...      ...   \n1859   1859  1860  White Knight Chronicles: International Edition      PS3   \n1867   1867  1868                                     NFL GameDay       PS   \n1885   1885  1886                                    Rogue Galaxy      PS2   \n1897   1897  1898                     Ace Combat 3: Electrosphere       PS   \n1904   1904  1905                                   SingStar Abba      PS3   \n\n        Year         Genre                    Publisher  North America  \\\n24    2001.0        Racing  Sony Computer Entertainment           6.85   \n39    2004.0        Racing  Sony Computer Entertainment           3.01   \n42    1997.0        Racing  Sony Computer Entertainment           4.22   \n52    1997.0  Role-Playing  Sony Computer Entertainment           3.01   \n56    1999.0        Racing  Sony Computer Entertainment           3.88   \n...      ...           ...                          ...            ...   \n1859  2008.0  Role-Playing  Sony Computer Entertainment           0.28   \n1867  1995.0        Sports  Sony Computer Entertainment           0.47   \n1885  2005.0  Role-Playing  Sony Computer Entertainment           0.24   \n1897  1999.0    Simulation  Sony Computer Entertainment           0.22   \n1904  2008.0          Misc  Sony Computer Entertainment           0.25   \n\n      Europe  Japan  Rest of World  Global  Review  \n24      4.99   1.87           1.16   14.88   94.47  \n39      5.63   1.10           1.62   11.36   89.41  \n42      3.87   2.54           0.52   11.15   88.00  \n52      2.47   3.28           0.96    9.72   92.10  \n56      3.29   1.69           0.50    9.36   92.42  \n...      ...    ...            ...     ...     ...  \n1859    0.14   0.36           0.07    0.85   77.00  \n1867    0.32   0.00           0.06    0.85   73.00  \n1885    0.16   0.39           0.05    0.84   81.92  \n1897    0.15   0.40           0.05    0.83   73.92  \n1904    0.44   0.00           0.14    0.83   73.00  \n\n[156 rows x 13 columns]",
      "text/html": "<div>\n<style scoped>\n    .dataframe tbody tr th:only-of-type {\n        vertical-align: middle;\n    }\n\n    .dataframe tbody tr th {\n        vertical-align: top;\n    }\n\n    .dataframe thead th {\n        text-align: right;\n    }\n</style>\n<table border=\"1\" class=\"dataframe\">\n  <thead>\n    <tr style=\"text-align: right;\">\n      <th></th>\n      <th>index</th>\n      <th>Rank</th>\n      <th>Game Title</th>\n      <th>Platform</th>\n      <th>Year</th>\n      <th>Genre</th>\n      <th>Publisher</th>\n      <th>North America</th>\n      <th>Europe</th>\n      <th>Japan</th>\n      <th>Rest of World</th>\n      <th>Global</th>\n      <th>Review</th>\n    </tr>\n  </thead>\n  <tbody>\n    <tr>\n      <th>24</th>\n      <td>24</td>\n      <td>25</td>\n      <td>Gran Turismo 3: A-Spec</td>\n      <td>PS2</td>\n      <td>2001.0</td>\n      <td>Racing</td>\n      <td>Sony Computer Entertainment</td>\n      <td>6.85</td>\n      <td>4.99</td>\n      <td>1.87</td>\n      <td>1.16</td>\n      <td>14.88</td>\n      <td>94.47</td>\n    </tr>\n    <tr>\n      <th>39</th>\n      <td>39</td>\n      <td>40</td>\n      <td>Gran Turismo 4</td>\n      <td>PS2</td>\n      <td>2004.0</td>\n      <td>Racing</td>\n      <td>Sony Computer Entertainment</td>\n      <td>3.01</td>\n      <td>5.63</td>\n      <td>1.10</td>\n      <td>1.62</td>\n      <td>11.36</td>\n      <td>89.41</td>\n    </tr>\n    <tr>\n      <th>42</th>\n      <td>42</td>\n      <td>43</td>\n      <td>Gran Turismo</td>\n      <td>PS</td>\n      <td>1997.0</td>\n      <td>Racing</td>\n      <td>Sony Computer Entertainment</td>\n      <td>4.22</td>\n      <td>3.87</td>\n      <td>2.54</td>\n      <td>0.52</td>\n      <td>11.15</td>\n      <td>88.00</td>\n    </tr>\n    <tr>\n      <th>52</th>\n      <td>52</td>\n      <td>53</td>\n      <td>Final Fantasy VII</td>\n      <td>PS</td>\n      <td>1997.0</td>\n      <td>Role-Playing</td>\n      <td>Sony Computer Entertainment</td>\n      <td>3.01</td>\n      <td>2.47</td>\n      <td>3.28</td>\n      <td>0.96</td>\n      <td>9.72</td>\n      <td>92.10</td>\n    </tr>\n    <tr>\n      <th>56</th>\n      <td>56</td>\n      <td>57</td>\n      <td>Gran Turismo 2</td>\n      <td>PS</td>\n      <td>1999.0</td>\n      <td>Racing</td>\n      <td>Sony Computer Entertainment</td>\n      <td>3.88</td>\n      <td>3.29</td>\n      <td>1.69</td>\n      <td>0.50</td>\n      <td>9.36</td>\n      <td>92.42</td>\n    </tr>\n    <tr>\n      <th>...</th>\n      <td>...</td>\n      <td>...</td>\n      <td>...</td>\n      <td>...</td>\n      <td>...</td>\n      <td>...</td>\n      <td>...</td>\n      <td>...</td>\n      <td>...</td>\n      <td>...</td>\n      <td>...</td>\n      <td>...</td>\n      <td>...</td>\n    </tr>\n    <tr>\n      <th>1859</th>\n      <td>1859</td>\n      <td>1860</td>\n      <td>White Knight Chronicles: International Edition</td>\n      <td>PS3</td>\n      <td>2008.0</td>\n      <td>Role-Playing</td>\n      <td>Sony Computer Entertainment</td>\n      <td>0.28</td>\n      <td>0.14</td>\n      <td>0.36</td>\n      <td>0.07</td>\n      <td>0.85</td>\n      <td>77.00</td>\n    </tr>\n    <tr>\n      <th>1867</th>\n      <td>1867</td>\n      <td>1868</td>\n      <td>NFL GameDay</td>\n      <td>PS</td>\n      <td>1995.0</td>\n      <td>Sports</td>\n      <td>Sony Computer Entertainment</td>\n      <td>0.47</td>\n      <td>0.32</td>\n      <td>0.00</td>\n      <td>0.06</td>\n      <td>0.85</td>\n      <td>73.00</td>\n    </tr>\n    <tr>\n      <th>1885</th>\n      <td>1885</td>\n      <td>1886</td>\n      <td>Rogue Galaxy</td>\n      <td>PS2</td>\n      <td>2005.0</td>\n      <td>Role-Playing</td>\n      <td>Sony Computer Entertainment</td>\n      <td>0.24</td>\n      <td>0.16</td>\n      <td>0.39</td>\n      <td>0.05</td>\n      <td>0.84</td>\n      <td>81.92</td>\n    </tr>\n    <tr>\n      <th>1897</th>\n      <td>1897</td>\n      <td>1898</td>\n      <td>Ace Combat 3: Electrosphere</td>\n      <td>PS</td>\n      <td>1999.0</td>\n      <td>Simulation</td>\n      <td>Sony Computer Entertainment</td>\n      <td>0.22</td>\n      <td>0.15</td>\n      <td>0.40</td>\n      <td>0.05</td>\n      <td>0.83</td>\n      <td>73.92</td>\n    </tr>\n    <tr>\n      <th>1904</th>\n      <td>1904</td>\n      <td>1905</td>\n      <td>SingStar Abba</td>\n      <td>PS3</td>\n      <td>2008.0</td>\n      <td>Misc</td>\n      <td>Sony Computer Entertainment</td>\n      <td>0.25</td>\n      <td>0.44</td>\n      <td>0.00</td>\n      <td>0.14</td>\n      <td>0.83</td>\n      <td>73.00</td>\n    </tr>\n  </tbody>\n</table>\n<p>156 rows × 13 columns</p>\n</div>"
     },
     "execution_count": 30,
     "metadata": {},
     "output_type": "execute_result"
    }
   ],
   "source": [
    "df[df[\"Publisher\"] == \"Sony Computer Entertainment\"]"
   ],
   "metadata": {
    "collapsed": false,
    "ExecuteTime": {
     "end_time": "2024-01-01T15:37:42.968236900Z",
     "start_time": "2024-01-01T15:37:42.952382100Z"
    }
   },
   "id": "cf8541a28df67558"
  },
  {
   "cell_type": "markdown",
   "source": [
    "Все игры издателя Electronic Arts жанра Sport, выпущенных после 2008 года"
   ],
   "metadata": {
    "collapsed": false
   },
   "id": "e5f6ba52655886d6"
  },
  {
   "cell_type": "code",
   "execution_count": 32,
   "outputs": [
    {
     "data": {
      "text/plain": "      index  Rank                        Game Title Platform    Year   Genre  \\\n96       96    97                    FIFA Soccer 12      PS3  2011.0  Sports   \n168     168   169                    FIFA Soccer 11      PS3  2010.0  Sports   \n227     227   228                    FIFA Soccer 12     X360  2011.0  Sports   \n250     250   251                  EA Sports Active      Wii  2009.0  Sports   \n295     295   296                    FIFA Soccer 10      PS3  2009.0  Sports   \n304     304   305                    FIFA Soccer 11     X360  2010.0  Sports   \n422     422   423                     Madden NFL 10     X360  2009.0  Sports   \n450     450   451                     Madden NFL 11     X360  2010.0  Sports   \n453     453   454                     Madden NFL 12     X360  2011.0  Sports   \n468     468   469                    FIFA Soccer 10     X360  2009.0  Sports   \n497     497   498                     Madden NFL 13     X360  2012.0  Sports   \n545     545   546                     Madden NFL 10      PS3  2009.0  Sports   \n552     552   553                     Madden NFL 11      PS3  2010.0  Sports   \n595     595   596                     Madden NFL 12      PS3  2011.0  Sports   \n650     650   651                     Madden NFL 13      PS3  2012.0  Sports   \n824     824   825                    FIFA Soccer 10      PS2  2009.0  Sports   \n931     931   932                           Skate 3     X360  2010.0  Sports   \n1171   1171  1172                           Skate 3      PS3  2010.0  Sports   \n1324   1324  1325                EA Sports Active 2      Wii  2010.0  Sports   \n1407   1407  1408  2010 FIFA World Cup South Africa      PS3  2010.0  Sports   \n1432   1432  1433                    FIFA Soccer 10      PSP  2009.0  Sports   \n1488   1488  1489   EA Sports Active: More Workouts      Wii  2009.0  Sports   \n1511   1511  1512                    FIFA Soccer 11      Wii  2010.0  Sports   \n1512   1512  1513                    FIFA Soccer 11      PSP  2010.0  Sports   \n1533   1533  1534                           Skate 2     X360  2009.0  Sports   \n1549   1549  1550           Tiger Woods PGA Tour 10      Wii  2009.0  Sports   \n1636   1636  1637                     Madden NFL 10      PS2  2009.0  Sports   \n1667   1667  1668                    FIFA Soccer 10      Wii  2009.0  Sports   \n1668   1668  1669                  NCAA Football 12     X360  2011.0  Sports   \n1705   1705  1706                  NCAA Football 13     X360  2012.0  Sports   \n1729   1729  1730                  NCAA Football 10     X360  2009.0  Sports   \n1764   1764  1765                       FIFA Street      PS3  2012.0  Sports   \n1782   1782  1783                  NCAA Football 11     X360  2010.0  Sports   \n1838   1838  1839       EA Sports Grand Slam Tennis      Wii  2009.0  Sports   \n\n            Publisher  North America  Europe  Japan  Rest of World  Global  \\\n96    Electronic Arts           0.78    4.02   0.11           1.41    6.32   \n168   Electronic Arts           0.57    3.22   0.06           1.06    4.91   \n227   Electronic Arts           0.79    2.74   0.02           0.51    4.06   \n250   Electronic Arts           2.05    1.32   0.06           0.40    3.84   \n295   Electronic Arts           0.56    2.41   0.05           0.51    3.53   \n304   Electronic Arts           0.67    2.35   0.02           0.44    3.48   \n422   Electronic Arts           2.48    0.09   0.00           0.22    2.79   \n450   Electronic Arts           2.32    0.11   0.00           0.21    2.64   \n453   Electronic Arts           2.33    0.08   0.00           0.21    2.62   \n468   Electronic Arts           0.57    1.77   0.01           0.23    2.57   \n497   Electronic Arts           2.18    0.08   0.00           0.19    2.45   \n545   Electronic Arts           2.00    0.12   0.00           0.20    2.32   \n552   Electronic Arts           1.97    0.13   0.00           0.20    2.31   \n595   Electronic Arts           1.83    0.12   0.00           0.19    2.14   \n650   Electronic Arts           1.76    0.10   0.00           0.18    2.04   \n824   Electronic Arts           0.23    1.16   0.00           0.31    1.70   \n931   Electronic Arts           0.85    0.54   0.00           0.16    1.55   \n1171  Electronic Arts           0.56    0.52   0.00           0.21    1.29   \n1324  Electronic Arts           0.72    0.34   0.00           0.12    1.18   \n1407  Electronic Arts           0.26    0.59   0.07           0.20    1.12   \n1432  Electronic Arts           0.15    0.65   0.01           0.30    1.10   \n1488  Electronic Arts           0.72    0.25   0.00           0.10    1.07   \n1511  Electronic Arts           0.25    0.67   0.00           0.13    1.05   \n1512  Electronic Arts           0.11    0.61   0.01           0.32    1.05   \n1533  Electronic Arts           0.80    0.14   0.01           0.09    1.04   \n1549  Electronic Arts           0.59    0.34   0.00           0.10    1.03   \n1636  Electronic Arts           0.88    0.04   0.00           0.06    0.98   \n1667  Electronic Arts           0.23    0.63   0.00           0.11    0.96   \n1668  Electronic Arts           0.89    0.00   0.00           0.07    0.96   \n1705  Electronic Arts           0.87    0.00   0.00           0.07    0.94   \n1729  Electronic Arts           0.85    0.00   0.00           0.07    0.92   \n1764  Electronic Arts           0.06    0.63   0.00           0.21    0.90   \n1782  Electronic Arts           0.83    0.00   0.00           0.07    0.90   \n1838  Electronic Arts           0.26    0.48   0.02           0.10    0.86   \n\n      Review  \n96     84.00  \n168    86.00  \n227    84.00  \n250    83.25  \n295    86.00  \n304    86.00  \n422    81.00  \n450    71.00  \n453    72.00  \n468    87.00  \n497    68.00  \n545    81.00  \n552    75.00  \n595    73.00  \n650    71.00  \n824    79.00  \n931    83.00  \n1171   82.00  \n1324   76.00  \n1407   69.00  \n1432   80.00  \n1488   68.00  \n1511   74.00  \n1512   80.00  \n1533   85.00  \n1549   89.14  \n1636   82.00  \n1667   72.00  \n1668   78.00  \n1705   68.00  \n1729   80.00  \n1764   76.71  \n1782   82.00  \n1838   78.53  ",
      "text/html": "<div>\n<style scoped>\n    .dataframe tbody tr th:only-of-type {\n        vertical-align: middle;\n    }\n\n    .dataframe tbody tr th {\n        vertical-align: top;\n    }\n\n    .dataframe thead th {\n        text-align: right;\n    }\n</style>\n<table border=\"1\" class=\"dataframe\">\n  <thead>\n    <tr style=\"text-align: right;\">\n      <th></th>\n      <th>index</th>\n      <th>Rank</th>\n      <th>Game Title</th>\n      <th>Platform</th>\n      <th>Year</th>\n      <th>Genre</th>\n      <th>Publisher</th>\n      <th>North America</th>\n      <th>Europe</th>\n      <th>Japan</th>\n      <th>Rest of World</th>\n      <th>Global</th>\n      <th>Review</th>\n    </tr>\n  </thead>\n  <tbody>\n    <tr>\n      <th>96</th>\n      <td>96</td>\n      <td>97</td>\n      <td>FIFA Soccer 12</td>\n      <td>PS3</td>\n      <td>2011.0</td>\n      <td>Sports</td>\n      <td>Electronic Arts</td>\n      <td>0.78</td>\n      <td>4.02</td>\n      <td>0.11</td>\n      <td>1.41</td>\n      <td>6.32</td>\n      <td>84.00</td>\n    </tr>\n    <tr>\n      <th>168</th>\n      <td>168</td>\n      <td>169</td>\n      <td>FIFA Soccer 11</td>\n      <td>PS3</td>\n      <td>2010.0</td>\n      <td>Sports</td>\n      <td>Electronic Arts</td>\n      <td>0.57</td>\n      <td>3.22</td>\n      <td>0.06</td>\n      <td>1.06</td>\n      <td>4.91</td>\n      <td>86.00</td>\n    </tr>\n    <tr>\n      <th>227</th>\n      <td>227</td>\n      <td>228</td>\n      <td>FIFA Soccer 12</td>\n      <td>X360</td>\n      <td>2011.0</td>\n      <td>Sports</td>\n      <td>Electronic Arts</td>\n      <td>0.79</td>\n      <td>2.74</td>\n      <td>0.02</td>\n      <td>0.51</td>\n      <td>4.06</td>\n      <td>84.00</td>\n    </tr>\n    <tr>\n      <th>250</th>\n      <td>250</td>\n      <td>251</td>\n      <td>EA Sports Active</td>\n      <td>Wii</td>\n      <td>2009.0</td>\n      <td>Sports</td>\n      <td>Electronic Arts</td>\n      <td>2.05</td>\n      <td>1.32</td>\n      <td>0.06</td>\n      <td>0.40</td>\n      <td>3.84</td>\n      <td>83.25</td>\n    </tr>\n    <tr>\n      <th>295</th>\n      <td>295</td>\n      <td>296</td>\n      <td>FIFA Soccer 10</td>\n      <td>PS3</td>\n      <td>2009.0</td>\n      <td>Sports</td>\n      <td>Electronic Arts</td>\n      <td>0.56</td>\n      <td>2.41</td>\n      <td>0.05</td>\n      <td>0.51</td>\n      <td>3.53</td>\n      <td>86.00</td>\n    </tr>\n    <tr>\n      <th>304</th>\n      <td>304</td>\n      <td>305</td>\n      <td>FIFA Soccer 11</td>\n      <td>X360</td>\n      <td>2010.0</td>\n      <td>Sports</td>\n      <td>Electronic Arts</td>\n      <td>0.67</td>\n      <td>2.35</td>\n      <td>0.02</td>\n      <td>0.44</td>\n      <td>3.48</td>\n      <td>86.00</td>\n    </tr>\n    <tr>\n      <th>422</th>\n      <td>422</td>\n      <td>423</td>\n      <td>Madden NFL 10</td>\n      <td>X360</td>\n      <td>2009.0</td>\n      <td>Sports</td>\n      <td>Electronic Arts</td>\n      <td>2.48</td>\n      <td>0.09</td>\n      <td>0.00</td>\n      <td>0.22</td>\n      <td>2.79</td>\n      <td>81.00</td>\n    </tr>\n    <tr>\n      <th>450</th>\n      <td>450</td>\n      <td>451</td>\n      <td>Madden NFL 11</td>\n      <td>X360</td>\n      <td>2010.0</td>\n      <td>Sports</td>\n      <td>Electronic Arts</td>\n      <td>2.32</td>\n      <td>0.11</td>\n      <td>0.00</td>\n      <td>0.21</td>\n      <td>2.64</td>\n      <td>71.00</td>\n    </tr>\n    <tr>\n      <th>453</th>\n      <td>453</td>\n      <td>454</td>\n      <td>Madden NFL 12</td>\n      <td>X360</td>\n      <td>2011.0</td>\n      <td>Sports</td>\n      <td>Electronic Arts</td>\n      <td>2.33</td>\n      <td>0.08</td>\n      <td>0.00</td>\n      <td>0.21</td>\n      <td>2.62</td>\n      <td>72.00</td>\n    </tr>\n    <tr>\n      <th>468</th>\n      <td>468</td>\n      <td>469</td>\n      <td>FIFA Soccer 10</td>\n      <td>X360</td>\n      <td>2009.0</td>\n      <td>Sports</td>\n      <td>Electronic Arts</td>\n      <td>0.57</td>\n      <td>1.77</td>\n      <td>0.01</td>\n      <td>0.23</td>\n      <td>2.57</td>\n      <td>87.00</td>\n    </tr>\n    <tr>\n      <th>497</th>\n      <td>497</td>\n      <td>498</td>\n      <td>Madden NFL 13</td>\n      <td>X360</td>\n      <td>2012.0</td>\n      <td>Sports</td>\n      <td>Electronic Arts</td>\n      <td>2.18</td>\n      <td>0.08</td>\n      <td>0.00</td>\n      <td>0.19</td>\n      <td>2.45</td>\n      <td>68.00</td>\n    </tr>\n    <tr>\n      <th>545</th>\n      <td>545</td>\n      <td>546</td>\n      <td>Madden NFL 10</td>\n      <td>PS3</td>\n      <td>2009.0</td>\n      <td>Sports</td>\n      <td>Electronic Arts</td>\n      <td>2.00</td>\n      <td>0.12</td>\n      <td>0.00</td>\n      <td>0.20</td>\n      <td>2.32</td>\n      <td>81.00</td>\n    </tr>\n    <tr>\n      <th>552</th>\n      <td>552</td>\n      <td>553</td>\n      <td>Madden NFL 11</td>\n      <td>PS3</td>\n      <td>2010.0</td>\n      <td>Sports</td>\n      <td>Electronic Arts</td>\n      <td>1.97</td>\n      <td>0.13</td>\n      <td>0.00</td>\n      <td>0.20</td>\n      <td>2.31</td>\n      <td>75.00</td>\n    </tr>\n    <tr>\n      <th>595</th>\n      <td>595</td>\n      <td>596</td>\n      <td>Madden NFL 12</td>\n      <td>PS3</td>\n      <td>2011.0</td>\n      <td>Sports</td>\n      <td>Electronic Arts</td>\n      <td>1.83</td>\n      <td>0.12</td>\n      <td>0.00</td>\n      <td>0.19</td>\n      <td>2.14</td>\n      <td>73.00</td>\n    </tr>\n    <tr>\n      <th>650</th>\n      <td>650</td>\n      <td>651</td>\n      <td>Madden NFL 13</td>\n      <td>PS3</td>\n      <td>2012.0</td>\n      <td>Sports</td>\n      <td>Electronic Arts</td>\n      <td>1.76</td>\n      <td>0.10</td>\n      <td>0.00</td>\n      <td>0.18</td>\n      <td>2.04</td>\n      <td>71.00</td>\n    </tr>\n    <tr>\n      <th>824</th>\n      <td>824</td>\n      <td>825</td>\n      <td>FIFA Soccer 10</td>\n      <td>PS2</td>\n      <td>2009.0</td>\n      <td>Sports</td>\n      <td>Electronic Arts</td>\n      <td>0.23</td>\n      <td>1.16</td>\n      <td>0.00</td>\n      <td>0.31</td>\n      <td>1.70</td>\n      <td>79.00</td>\n    </tr>\n    <tr>\n      <th>931</th>\n      <td>931</td>\n      <td>932</td>\n      <td>Skate 3</td>\n      <td>X360</td>\n      <td>2010.0</td>\n      <td>Sports</td>\n      <td>Electronic Arts</td>\n      <td>0.85</td>\n      <td>0.54</td>\n      <td>0.00</td>\n      <td>0.16</td>\n      <td>1.55</td>\n      <td>83.00</td>\n    </tr>\n    <tr>\n      <th>1171</th>\n      <td>1171</td>\n      <td>1172</td>\n      <td>Skate 3</td>\n      <td>PS3</td>\n      <td>2010.0</td>\n      <td>Sports</td>\n      <td>Electronic Arts</td>\n      <td>0.56</td>\n      <td>0.52</td>\n      <td>0.00</td>\n      <td>0.21</td>\n      <td>1.29</td>\n      <td>82.00</td>\n    </tr>\n    <tr>\n      <th>1324</th>\n      <td>1324</td>\n      <td>1325</td>\n      <td>EA Sports Active 2</td>\n      <td>Wii</td>\n      <td>2010.0</td>\n      <td>Sports</td>\n      <td>Electronic Arts</td>\n      <td>0.72</td>\n      <td>0.34</td>\n      <td>0.00</td>\n      <td>0.12</td>\n      <td>1.18</td>\n      <td>76.00</td>\n    </tr>\n    <tr>\n      <th>1407</th>\n      <td>1407</td>\n      <td>1408</td>\n      <td>2010 FIFA World Cup South Africa</td>\n      <td>PS3</td>\n      <td>2010.0</td>\n      <td>Sports</td>\n      <td>Electronic Arts</td>\n      <td>0.26</td>\n      <td>0.59</td>\n      <td>0.07</td>\n      <td>0.20</td>\n      <td>1.12</td>\n      <td>69.00</td>\n    </tr>\n    <tr>\n      <th>1432</th>\n      <td>1432</td>\n      <td>1433</td>\n      <td>FIFA Soccer 10</td>\n      <td>PSP</td>\n      <td>2009.0</td>\n      <td>Sports</td>\n      <td>Electronic Arts</td>\n      <td>0.15</td>\n      <td>0.65</td>\n      <td>0.01</td>\n      <td>0.30</td>\n      <td>1.10</td>\n      <td>80.00</td>\n    </tr>\n    <tr>\n      <th>1488</th>\n      <td>1488</td>\n      <td>1489</td>\n      <td>EA Sports Active: More Workouts</td>\n      <td>Wii</td>\n      <td>2009.0</td>\n      <td>Sports</td>\n      <td>Electronic Arts</td>\n      <td>0.72</td>\n      <td>0.25</td>\n      <td>0.00</td>\n      <td>0.10</td>\n      <td>1.07</td>\n      <td>68.00</td>\n    </tr>\n    <tr>\n      <th>1511</th>\n      <td>1511</td>\n      <td>1512</td>\n      <td>FIFA Soccer 11</td>\n      <td>Wii</td>\n      <td>2010.0</td>\n      <td>Sports</td>\n      <td>Electronic Arts</td>\n      <td>0.25</td>\n      <td>0.67</td>\n      <td>0.00</td>\n      <td>0.13</td>\n      <td>1.05</td>\n      <td>74.00</td>\n    </tr>\n    <tr>\n      <th>1512</th>\n      <td>1512</td>\n      <td>1513</td>\n      <td>FIFA Soccer 11</td>\n      <td>PSP</td>\n      <td>2010.0</td>\n      <td>Sports</td>\n      <td>Electronic Arts</td>\n      <td>0.11</td>\n      <td>0.61</td>\n      <td>0.01</td>\n      <td>0.32</td>\n      <td>1.05</td>\n      <td>80.00</td>\n    </tr>\n    <tr>\n      <th>1533</th>\n      <td>1533</td>\n      <td>1534</td>\n      <td>Skate 2</td>\n      <td>X360</td>\n      <td>2009.0</td>\n      <td>Sports</td>\n      <td>Electronic Arts</td>\n      <td>0.80</td>\n      <td>0.14</td>\n      <td>0.01</td>\n      <td>0.09</td>\n      <td>1.04</td>\n      <td>85.00</td>\n    </tr>\n    <tr>\n      <th>1549</th>\n      <td>1549</td>\n      <td>1550</td>\n      <td>Tiger Woods PGA Tour 10</td>\n      <td>Wii</td>\n      <td>2009.0</td>\n      <td>Sports</td>\n      <td>Electronic Arts</td>\n      <td>0.59</td>\n      <td>0.34</td>\n      <td>0.00</td>\n      <td>0.10</td>\n      <td>1.03</td>\n      <td>89.14</td>\n    </tr>\n    <tr>\n      <th>1636</th>\n      <td>1636</td>\n      <td>1637</td>\n      <td>Madden NFL 10</td>\n      <td>PS2</td>\n      <td>2009.0</td>\n      <td>Sports</td>\n      <td>Electronic Arts</td>\n      <td>0.88</td>\n      <td>0.04</td>\n      <td>0.00</td>\n      <td>0.06</td>\n      <td>0.98</td>\n      <td>82.00</td>\n    </tr>\n    <tr>\n      <th>1667</th>\n      <td>1667</td>\n      <td>1668</td>\n      <td>FIFA Soccer 10</td>\n      <td>Wii</td>\n      <td>2009.0</td>\n      <td>Sports</td>\n      <td>Electronic Arts</td>\n      <td>0.23</td>\n      <td>0.63</td>\n      <td>0.00</td>\n      <td>0.11</td>\n      <td>0.96</td>\n      <td>72.00</td>\n    </tr>\n    <tr>\n      <th>1668</th>\n      <td>1668</td>\n      <td>1669</td>\n      <td>NCAA Football 12</td>\n      <td>X360</td>\n      <td>2011.0</td>\n      <td>Sports</td>\n      <td>Electronic Arts</td>\n      <td>0.89</td>\n      <td>0.00</td>\n      <td>0.00</td>\n      <td>0.07</td>\n      <td>0.96</td>\n      <td>78.00</td>\n    </tr>\n    <tr>\n      <th>1705</th>\n      <td>1705</td>\n      <td>1706</td>\n      <td>NCAA Football 13</td>\n      <td>X360</td>\n      <td>2012.0</td>\n      <td>Sports</td>\n      <td>Electronic Arts</td>\n      <td>0.87</td>\n      <td>0.00</td>\n      <td>0.00</td>\n      <td>0.07</td>\n      <td>0.94</td>\n      <td>68.00</td>\n    </tr>\n    <tr>\n      <th>1729</th>\n      <td>1729</td>\n      <td>1730</td>\n      <td>NCAA Football 10</td>\n      <td>X360</td>\n      <td>2009.0</td>\n      <td>Sports</td>\n      <td>Electronic Arts</td>\n      <td>0.85</td>\n      <td>0.00</td>\n      <td>0.00</td>\n      <td>0.07</td>\n      <td>0.92</td>\n      <td>80.00</td>\n    </tr>\n    <tr>\n      <th>1764</th>\n      <td>1764</td>\n      <td>1765</td>\n      <td>FIFA Street</td>\n      <td>PS3</td>\n      <td>2012.0</td>\n      <td>Sports</td>\n      <td>Electronic Arts</td>\n      <td>0.06</td>\n      <td>0.63</td>\n      <td>0.00</td>\n      <td>0.21</td>\n      <td>0.90</td>\n      <td>76.71</td>\n    </tr>\n    <tr>\n      <th>1782</th>\n      <td>1782</td>\n      <td>1783</td>\n      <td>NCAA Football 11</td>\n      <td>X360</td>\n      <td>2010.0</td>\n      <td>Sports</td>\n      <td>Electronic Arts</td>\n      <td>0.83</td>\n      <td>0.00</td>\n      <td>0.00</td>\n      <td>0.07</td>\n      <td>0.90</td>\n      <td>82.00</td>\n    </tr>\n    <tr>\n      <th>1838</th>\n      <td>1838</td>\n      <td>1839</td>\n      <td>EA Sports Grand Slam Tennis</td>\n      <td>Wii</td>\n      <td>2009.0</td>\n      <td>Sports</td>\n      <td>Electronic Arts</td>\n      <td>0.26</td>\n      <td>0.48</td>\n      <td>0.02</td>\n      <td>0.10</td>\n      <td>0.86</td>\n      <td>78.53</td>\n    </tr>\n  </tbody>\n</table>\n</div>"
     },
     "execution_count": 32,
     "metadata": {},
     "output_type": "execute_result"
    }
   ],
   "source": [
    "df[(df[\"Publisher\"] == \"Electronic Arts\") & (df[\"Genre\"] == \"Sports\") & (df[\"Year\"] > 2008 )]"
   ],
   "metadata": {
    "collapsed": false,
    "ExecuteTime": {
     "end_time": "2024-01-01T15:41:09.063157400Z",
     "start_time": "2024-01-01T15:41:09.055328900Z"
    }
   },
   "id": "9a758d55696e0691"
  },
  {
   "cell_type": "markdown",
   "source": [
    "Выборка из 10 случайных игр жанра Role-Playing, вышедших до 2000 года"
   ],
   "metadata": {
    "collapsed": false
   },
   "id": "dbc1b87606621631"
  },
  {
   "cell_type": "code",
   "execution_count": 37,
   "outputs": [
    {
     "data": {
      "text/plain": "      index  Rank                               Game Title Platform    Year  \\\n500     500   501                          Final Fantasy V     SNES  1992.0   \n52       52    53                        Final Fantasy VII       PS  1997.0   \n1013   1013  1014                                Xenogears       PS  1998.0   \n1515   1515  1516                           Arc the Lad II       PS  1996.0   \n310     310   311                        Final Fantasy III     SNES  1994.0   \n71       71    72                       Final Fantasy VIII       PS  1999.0   \n471     471   472                        Dragon Warrior II      NES  1987.0   \n26       26    27  Pokémon Yellow: Special Pikachu Edition       GB  1998.0   \n737     737   738                    The Legend of Dragoon       PS  1999.0   \n1527   1527  1528                         Tales of Destiny       PS  1997.0   \n\n             Genre                    Publisher  North America  Europe  Japan  \\\n500   Role-Playing                       Square           0.00    0.00   2.43   \n52    Role-Playing  Sony Computer Entertainment           3.01    2.47   3.28   \n1013  Role-Playing                       Square           0.29    0.19   0.89   \n1515  Role-Playing  Sony Computer Entertainment           0.00    0.00   0.92   \n310   Role-Playing                       Square           0.86    0.00   2.55   \n71    Role-Playing                       Square           2.28    1.72   3.63   \n471   Role-Playing             Enix Corporation           0.15    0.00   2.41   \n26    Role-Playing                     Nintendo           5.89    5.04   3.12   \n737   Role-Playing  Sony Computer Entertainment           0.94    0.44   0.39   \n1527  Role-Playing           Namco Bandai Games           0.09    0.06   0.83   \n\n      Rest of World  Global  Review  \n500            0.02    2.45   87.00  \n52             0.96    9.72   92.10  \n1013           0.10    1.46   90.94  \n1515           0.13    1.05   81.25  \n310            0.02    3.42   90.00  \n71             0.23    7.86   89.17  \n471            0.00    2.56   88.00  \n26             0.59   14.64   88.00  \n737            0.10    1.86   89.00  \n1527           0.07    1.04   82.00  ",
      "text/html": "<div>\n<style scoped>\n    .dataframe tbody tr th:only-of-type {\n        vertical-align: middle;\n    }\n\n    .dataframe tbody tr th {\n        vertical-align: top;\n    }\n\n    .dataframe thead th {\n        text-align: right;\n    }\n</style>\n<table border=\"1\" class=\"dataframe\">\n  <thead>\n    <tr style=\"text-align: right;\">\n      <th></th>\n      <th>index</th>\n      <th>Rank</th>\n      <th>Game Title</th>\n      <th>Platform</th>\n      <th>Year</th>\n      <th>Genre</th>\n      <th>Publisher</th>\n      <th>North America</th>\n      <th>Europe</th>\n      <th>Japan</th>\n      <th>Rest of World</th>\n      <th>Global</th>\n      <th>Review</th>\n    </tr>\n  </thead>\n  <tbody>\n    <tr>\n      <th>500</th>\n      <td>500</td>\n      <td>501</td>\n      <td>Final Fantasy V</td>\n      <td>SNES</td>\n      <td>1992.0</td>\n      <td>Role-Playing</td>\n      <td>Square</td>\n      <td>0.00</td>\n      <td>0.00</td>\n      <td>2.43</td>\n      <td>0.02</td>\n      <td>2.45</td>\n      <td>87.00</td>\n    </tr>\n    <tr>\n      <th>52</th>\n      <td>52</td>\n      <td>53</td>\n      <td>Final Fantasy VII</td>\n      <td>PS</td>\n      <td>1997.0</td>\n      <td>Role-Playing</td>\n      <td>Sony Computer Entertainment</td>\n      <td>3.01</td>\n      <td>2.47</td>\n      <td>3.28</td>\n      <td>0.96</td>\n      <td>9.72</td>\n      <td>92.10</td>\n    </tr>\n    <tr>\n      <th>1013</th>\n      <td>1013</td>\n      <td>1014</td>\n      <td>Xenogears</td>\n      <td>PS</td>\n      <td>1998.0</td>\n      <td>Role-Playing</td>\n      <td>Square</td>\n      <td>0.29</td>\n      <td>0.19</td>\n      <td>0.89</td>\n      <td>0.10</td>\n      <td>1.46</td>\n      <td>90.94</td>\n    </tr>\n    <tr>\n      <th>1515</th>\n      <td>1515</td>\n      <td>1516</td>\n      <td>Arc the Lad II</td>\n      <td>PS</td>\n      <td>1996.0</td>\n      <td>Role-Playing</td>\n      <td>Sony Computer Entertainment</td>\n      <td>0.00</td>\n      <td>0.00</td>\n      <td>0.92</td>\n      <td>0.13</td>\n      <td>1.05</td>\n      <td>81.25</td>\n    </tr>\n    <tr>\n      <th>310</th>\n      <td>310</td>\n      <td>311</td>\n      <td>Final Fantasy III</td>\n      <td>SNES</td>\n      <td>1994.0</td>\n      <td>Role-Playing</td>\n      <td>Square</td>\n      <td>0.86</td>\n      <td>0.00</td>\n      <td>2.55</td>\n      <td>0.02</td>\n      <td>3.42</td>\n      <td>90.00</td>\n    </tr>\n    <tr>\n      <th>71</th>\n      <td>71</td>\n      <td>72</td>\n      <td>Final Fantasy VIII</td>\n      <td>PS</td>\n      <td>1999.0</td>\n      <td>Role-Playing</td>\n      <td>Square</td>\n      <td>2.28</td>\n      <td>1.72</td>\n      <td>3.63</td>\n      <td>0.23</td>\n      <td>7.86</td>\n      <td>89.17</td>\n    </tr>\n    <tr>\n      <th>471</th>\n      <td>471</td>\n      <td>472</td>\n      <td>Dragon Warrior II</td>\n      <td>NES</td>\n      <td>1987.0</td>\n      <td>Role-Playing</td>\n      <td>Enix Corporation</td>\n      <td>0.15</td>\n      <td>0.00</td>\n      <td>2.41</td>\n      <td>0.00</td>\n      <td>2.56</td>\n      <td>88.00</td>\n    </tr>\n    <tr>\n      <th>26</th>\n      <td>26</td>\n      <td>27</td>\n      <td>Pokémon Yellow: Special Pikachu Edition</td>\n      <td>GB</td>\n      <td>1998.0</td>\n      <td>Role-Playing</td>\n      <td>Nintendo</td>\n      <td>5.89</td>\n      <td>5.04</td>\n      <td>3.12</td>\n      <td>0.59</td>\n      <td>14.64</td>\n      <td>88.00</td>\n    </tr>\n    <tr>\n      <th>737</th>\n      <td>737</td>\n      <td>738</td>\n      <td>The Legend of Dragoon</td>\n      <td>PS</td>\n      <td>1999.0</td>\n      <td>Role-Playing</td>\n      <td>Sony Computer Entertainment</td>\n      <td>0.94</td>\n      <td>0.44</td>\n      <td>0.39</td>\n      <td>0.10</td>\n      <td>1.86</td>\n      <td>89.00</td>\n    </tr>\n    <tr>\n      <th>1527</th>\n      <td>1527</td>\n      <td>1528</td>\n      <td>Tales of Destiny</td>\n      <td>PS</td>\n      <td>1997.0</td>\n      <td>Role-Playing</td>\n      <td>Namco Bandai Games</td>\n      <td>0.09</td>\n      <td>0.06</td>\n      <td>0.83</td>\n      <td>0.07</td>\n      <td>1.04</td>\n      <td>82.00</td>\n    </tr>\n  </tbody>\n</table>\n</div>"
     },
     "execution_count": 37,
     "metadata": {},
     "output_type": "execute_result"
    }
   ],
   "source": [
    "df[(df[\"Genre\"] == \"Role-Playing\") & (df[\"Year\"] < 2000 )].sample(n=10)"
   ],
   "metadata": {
    "collapsed": false,
    "ExecuteTime": {
     "end_time": "2024-01-01T17:26:34.271157100Z",
     "start_time": "2024-01-01T17:26:34.265323600Z"
    }
   },
   "id": "4e3c941be42d145c"
  },
  {
   "cell_type": "markdown",
   "source": [
    "4. Сделать как минимум два аггрегирующих запроса + 2 запроса, использующих непосредственно groupby и дальнейшую аггрегацию по нему"
   ],
   "metadata": {
    "collapsed": false
   },
   "id": "c5932b9539dc3405"
  },
  {
   "cell_type": "markdown",
   "source": [
    "Топ 10 самых высокоранговых игр за все время"
   ],
   "metadata": {
    "collapsed": false
   },
   "id": "e5c31287dd797ab8"
  },
  {
   "cell_type": "code",
   "execution_count": 49,
   "outputs": [
    {
     "data": {
      "text/plain": "  Publisher                 Game Title Platform  Rank\n0  Nintendo                 Wii Sports      Wii     1\n1  Nintendo          Super Mario Bros.      NES     2\n2  Nintendo             Mario Kart Wii      Wii     3\n3  Nintendo          Wii Sports Resort      Wii     4\n4  Nintendo                     Tetris       GB     5\n5  Nintendo      New Super Mario Bros.       DS     6\n6  Nintendo                   Wii Play      Wii     7\n7  Nintendo                  Duck Hunt      NES     8\n8  Nintendo  New Super Mario Bros. Wii      Wii     9\n9  Nintendo                 Nintendogs       DS    10",
      "text/html": "<div>\n<style scoped>\n    .dataframe tbody tr th:only-of-type {\n        vertical-align: middle;\n    }\n\n    .dataframe tbody tr th {\n        vertical-align: top;\n    }\n\n    .dataframe thead th {\n        text-align: right;\n    }\n</style>\n<table border=\"1\" class=\"dataframe\">\n  <thead>\n    <tr style=\"text-align: right;\">\n      <th></th>\n      <th>Publisher</th>\n      <th>Game Title</th>\n      <th>Platform</th>\n      <th>Rank</th>\n    </tr>\n  </thead>\n  <tbody>\n    <tr>\n      <th>0</th>\n      <td>Nintendo</td>\n      <td>Wii Sports</td>\n      <td>Wii</td>\n      <td>1</td>\n    </tr>\n    <tr>\n      <th>1</th>\n      <td>Nintendo</td>\n      <td>Super Mario Bros.</td>\n      <td>NES</td>\n      <td>2</td>\n    </tr>\n    <tr>\n      <th>2</th>\n      <td>Nintendo</td>\n      <td>Mario Kart Wii</td>\n      <td>Wii</td>\n      <td>3</td>\n    </tr>\n    <tr>\n      <th>3</th>\n      <td>Nintendo</td>\n      <td>Wii Sports Resort</td>\n      <td>Wii</td>\n      <td>4</td>\n    </tr>\n    <tr>\n      <th>4</th>\n      <td>Nintendo</td>\n      <td>Tetris</td>\n      <td>GB</td>\n      <td>5</td>\n    </tr>\n    <tr>\n      <th>5</th>\n      <td>Nintendo</td>\n      <td>New Super Mario Bros.</td>\n      <td>DS</td>\n      <td>6</td>\n    </tr>\n    <tr>\n      <th>6</th>\n      <td>Nintendo</td>\n      <td>Wii Play</td>\n      <td>Wii</td>\n      <td>7</td>\n    </tr>\n    <tr>\n      <th>7</th>\n      <td>Nintendo</td>\n      <td>Duck Hunt</td>\n      <td>NES</td>\n      <td>8</td>\n    </tr>\n    <tr>\n      <th>8</th>\n      <td>Nintendo</td>\n      <td>New Super Mario Bros. Wii</td>\n      <td>Wii</td>\n      <td>9</td>\n    </tr>\n    <tr>\n      <th>9</th>\n      <td>Nintendo</td>\n      <td>Nintendogs</td>\n      <td>DS</td>\n      <td>10</td>\n    </tr>\n  </tbody>\n</table>\n</div>"
     },
     "execution_count": 49,
     "metadata": {},
     "output_type": "execute_result"
    }
   ],
   "source": [
    "publishers = df[[\"Publisher\",\"Game Title\" , \"Platform\", \"Rank\"]]\n",
    "publishers = publishers.sort_values(by='Rank', ascending=True)\n",
    "publishers = publishers.head(10)\n",
    "publishers"
   ],
   "metadata": {
    "collapsed": false,
    "ExecuteTime": {
     "end_time": "2024-01-01T17:38:23.652315200Z",
     "start_time": "2024-01-01T17:38:23.646707300Z"
    }
   },
   "id": "d42d2d8ee7959f7f"
  },
  {
   "cell_type": "markdown",
   "source": [
    "Группировка по платформе, на которой выходила игра с подсчетом количества вышедших игр для каждой платформы."
   ],
   "metadata": {
    "collapsed": false
   },
   "id": "3f32630925788785"
  },
  {
   "cell_type": "code",
   "execution_count": 54,
   "outputs": [
    {
     "data": {
      "text/plain": "Platform\n3DS      15\nDC        6\nDS      149\nGB       48\nGBA      75\nGC       55\nGEN      11\nN64      57\nNES      60\nPC       71\nPS      223\nPS2     372\nPS3     202\nPSP      63\nPSV       1\nSAT       3\nSCD       1\nSNES     41\nWii     161\nWiiU      2\nX360    219\nXB       72\ndtype: int64"
     },
     "execution_count": 54,
     "metadata": {},
     "output_type": "execute_result"
    }
   ],
   "source": [
    "df.groupby('Platform').size()"
   ],
   "metadata": {
    "collapsed": false,
    "ExecuteTime": {
     "end_time": "2024-01-01T17:40:53.235177300Z",
     "start_time": "2024-01-01T17:40:53.229965Z"
    }
   },
   "id": "f80de353deb3c65f"
  },
  {
   "cell_type": "markdown",
   "source": [
    "10 самых старых игр в датасете."
   ],
   "metadata": {
    "collapsed": false
   },
   "id": "6609d030a616019d"
  },
  {
   "cell_type": "code",
   "execution_count": 58,
   "outputs": [
    {
     "data": {
      "text/plain": "        index  Rank                             Game Title Platform  \\\nYear                                                                  \n1983.0    335   336                               Baseball      NES   \n1984.0      7     8                              Duck Hunt      NES   \n1985.0      1     2                               Gyromite      NES   \n1986.0     91    92                       Adventure Island      NES   \n1987.0    201   202                      Dragon Warrior II      NES   \n1988.0     20    21                     Disney's DuckTales       GB   \n1989.0      4     5                               Alleyway       GB   \n1990.0     15    16  Disney's Chip 'n Dale: Rescue Rangers       GB   \n1991.0    182   183                       Final Fantasy II       GB   \n1992.0     41    42                                   Doom       GB   \n\n            Genre              Publisher  North America  Europe  Japan  \\\nYear                                                                     \n1983.0       Misc               Nintendo           0.01    0.00   0.45   \n1984.0     Action            Hudson Soft           0.00    0.00   0.28   \n1985.0     Action     Namco Bandai Games           0.00    0.00   0.40   \n1986.0     Action                 Capcom           0.00    0.00   0.25   \n1987.0  Adventure       Enix Corporation           0.00    0.00   0.45   \n1988.0     Action                 Capcom           0.00    0.00   0.35   \n1989.0   Platform                 Capcom           0.00    0.00   0.36   \n1990.0     Action                 Capcom           0.00    0.00   0.11   \n1991.0  Adventure                 Capcom           0.24    0.09   0.15   \n1992.0  Adventure  Acclaim Entertainment           0.00    0.00   0.00   \n\n        Rest of World  Global  Review  \nYear                                   \n1983.0           0.00    1.10   39.00  \n1984.0           0.00    1.10   46.00  \n1985.0           0.00    1.05   51.00  \n1986.0           0.00    1.05   53.00  \n1987.0           0.00    1.25   54.00  \n1988.0           0.00    1.09   75.00  \n1989.0           0.00    1.10   54.62  \n1990.0           0.01    1.12   45.00  \n1991.0           0.02    1.00   69.00  \n1992.0           0.02    1.21   72.00  ",
      "text/html": "<div>\n<style scoped>\n    .dataframe tbody tr th:only-of-type {\n        vertical-align: middle;\n    }\n\n    .dataframe tbody tr th {\n        vertical-align: top;\n    }\n\n    .dataframe thead th {\n        text-align: right;\n    }\n</style>\n<table border=\"1\" class=\"dataframe\">\n  <thead>\n    <tr style=\"text-align: right;\">\n      <th></th>\n      <th>index</th>\n      <th>Rank</th>\n      <th>Game Title</th>\n      <th>Platform</th>\n      <th>Genre</th>\n      <th>Publisher</th>\n      <th>North America</th>\n      <th>Europe</th>\n      <th>Japan</th>\n      <th>Rest of World</th>\n      <th>Global</th>\n      <th>Review</th>\n    </tr>\n    <tr>\n      <th>Year</th>\n      <th></th>\n      <th></th>\n      <th></th>\n      <th></th>\n      <th></th>\n      <th></th>\n      <th></th>\n      <th></th>\n      <th></th>\n      <th></th>\n      <th></th>\n      <th></th>\n    </tr>\n  </thead>\n  <tbody>\n    <tr>\n      <th>1983.0</th>\n      <td>335</td>\n      <td>336</td>\n      <td>Baseball</td>\n      <td>NES</td>\n      <td>Misc</td>\n      <td>Nintendo</td>\n      <td>0.01</td>\n      <td>0.00</td>\n      <td>0.45</td>\n      <td>0.00</td>\n      <td>1.10</td>\n      <td>39.00</td>\n    </tr>\n    <tr>\n      <th>1984.0</th>\n      <td>7</td>\n      <td>8</td>\n      <td>Duck Hunt</td>\n      <td>NES</td>\n      <td>Action</td>\n      <td>Hudson Soft</td>\n      <td>0.00</td>\n      <td>0.00</td>\n      <td>0.28</td>\n      <td>0.00</td>\n      <td>1.10</td>\n      <td>46.00</td>\n    </tr>\n    <tr>\n      <th>1985.0</th>\n      <td>1</td>\n      <td>2</td>\n      <td>Gyromite</td>\n      <td>NES</td>\n      <td>Action</td>\n      <td>Namco Bandai Games</td>\n      <td>0.00</td>\n      <td>0.00</td>\n      <td>0.40</td>\n      <td>0.00</td>\n      <td>1.05</td>\n      <td>51.00</td>\n    </tr>\n    <tr>\n      <th>1986.0</th>\n      <td>91</td>\n      <td>92</td>\n      <td>Adventure Island</td>\n      <td>NES</td>\n      <td>Action</td>\n      <td>Capcom</td>\n      <td>0.00</td>\n      <td>0.00</td>\n      <td>0.25</td>\n      <td>0.00</td>\n      <td>1.05</td>\n      <td>53.00</td>\n    </tr>\n    <tr>\n      <th>1987.0</th>\n      <td>201</td>\n      <td>202</td>\n      <td>Dragon Warrior II</td>\n      <td>NES</td>\n      <td>Adventure</td>\n      <td>Enix Corporation</td>\n      <td>0.00</td>\n      <td>0.00</td>\n      <td>0.45</td>\n      <td>0.00</td>\n      <td>1.25</td>\n      <td>54.00</td>\n    </tr>\n    <tr>\n      <th>1988.0</th>\n      <td>20</td>\n      <td>21</td>\n      <td>Disney's DuckTales</td>\n      <td>GB</td>\n      <td>Action</td>\n      <td>Capcom</td>\n      <td>0.00</td>\n      <td>0.00</td>\n      <td>0.35</td>\n      <td>0.00</td>\n      <td>1.09</td>\n      <td>75.00</td>\n    </tr>\n    <tr>\n      <th>1989.0</th>\n      <td>4</td>\n      <td>5</td>\n      <td>Alleyway</td>\n      <td>GB</td>\n      <td>Platform</td>\n      <td>Capcom</td>\n      <td>0.00</td>\n      <td>0.00</td>\n      <td>0.36</td>\n      <td>0.00</td>\n      <td>1.10</td>\n      <td>54.62</td>\n    </tr>\n    <tr>\n      <th>1990.0</th>\n      <td>15</td>\n      <td>16</td>\n      <td>Disney's Chip 'n Dale: Rescue Rangers</td>\n      <td>GB</td>\n      <td>Action</td>\n      <td>Capcom</td>\n      <td>0.00</td>\n      <td>0.00</td>\n      <td>0.11</td>\n      <td>0.01</td>\n      <td>1.12</td>\n      <td>45.00</td>\n    </tr>\n    <tr>\n      <th>1991.0</th>\n      <td>182</td>\n      <td>183</td>\n      <td>Final Fantasy II</td>\n      <td>GB</td>\n      <td>Adventure</td>\n      <td>Capcom</td>\n      <td>0.24</td>\n      <td>0.09</td>\n      <td>0.15</td>\n      <td>0.02</td>\n      <td>1.00</td>\n      <td>69.00</td>\n    </tr>\n    <tr>\n      <th>1992.0</th>\n      <td>41</td>\n      <td>42</td>\n      <td>Doom</td>\n      <td>GB</td>\n      <td>Adventure</td>\n      <td>Acclaim Entertainment</td>\n      <td>0.00</td>\n      <td>0.00</td>\n      <td>0.00</td>\n      <td>0.02</td>\n      <td>1.21</td>\n      <td>72.00</td>\n    </tr>\n  </tbody>\n</table>\n</div>"
     },
     "execution_count": 58,
     "metadata": {},
     "output_type": "execute_result"
    }
   ],
   "source": [
    "df.groupby('Year').min().head(10)"
   ],
   "metadata": {
    "collapsed": false,
    "ExecuteTime": {
     "end_time": "2024-01-01T17:43:49.481630700Z",
     "start_time": "2024-01-01T17:43:49.461292200Z"
    }
   },
   "id": "23270f908ea4e64b"
  },
  {
   "cell_type": "code",
   "execution_count": null,
   "outputs": [],
   "source": [],
   "metadata": {
    "collapsed": false
   },
   "id": "4fdd6de72bde9fd5"
  }
 ],
 "metadata": {
  "kernelspec": {
   "display_name": "Python 3",
   "language": "python",
   "name": "python3"
  },
  "language_info": {
   "codemirror_mode": {
    "name": "ipython",
    "version": 2
   },
   "file_extension": ".py",
   "mimetype": "text/x-python",
   "name": "python",
   "nbconvert_exporter": "python",
   "pygments_lexer": "ipython2",
   "version": "2.7.6"
  }
 },
 "nbformat": 4,
 "nbformat_minor": 5
}
